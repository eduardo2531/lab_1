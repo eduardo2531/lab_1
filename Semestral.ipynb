{
  "nbformat": 4,
  "nbformat_minor": 0,
  "metadata": {
    "colab": {
      "name": "Semestral.ipynb",
      "provenance": [],
      "authorship_tag": "ABX9TyMvky8pSsi+n5Xgun8/BBx9",
      "include_colab_link": true
    },
    "kernelspec": {
      "name": "python3",
      "display_name": "Python 3"
    },
    "language_info": {
      "name": "python"
    }
  },
  "cells": [
    {
      "cell_type": "markdown",
      "metadata": {
        "id": "view-in-github",
        "colab_type": "text"
      },
      "source": [
        "<a href=\"https://colab.research.google.com/github/eduardo2531/lab_1/blob/main/Semestral.ipynb\" target=\"_parent\"><img src=\"https://colab.research.google.com/assets/colab-badge.svg\" alt=\"Open In Colab\"/></a>"
      ]
    },
    {
      "cell_type": "code",
      "execution_count": null,
      "metadata": {
        "colab": {
          "base_uri": "https://localhost:8080/"
        },
        "id": "TRbvg-2GlBtt",
        "outputId": "d6fc025c-16b3-4f3f-eea9-418f1e294a75"
      },
      "outputs": [
        {
          "output_type": "stream",
          "name": "stdout",
          "text": [
            "Looking in indexes: https://pypi.org/simple, https://us-python.pkg.dev/colab-wheels/public/simple/\n",
            "Requirement already satisfied: neat-python in /usr/local/lib/python3.7/dist-packages (0.92)\n",
            "Looking in indexes: https://pypi.org/simple, https://us-python.pkg.dev/colab-wheels/public/simple/\n",
            "Requirement already satisfied: gym-retro in /usr/local/lib/python3.7/dist-packages (0.8.0)\n",
            "Requirement already satisfied: pyglet==1.*,>=1.3.2 in /usr/local/lib/python3.7/dist-packages (from gym-retro) (1.5.0)\n",
            "Requirement already satisfied: gym in /usr/local/lib/python3.7/dist-packages (from gym-retro) (0.17.3)\n",
            "Requirement already satisfied: future in /usr/local/lib/python3.7/dist-packages (from pyglet==1.*,>=1.3.2->gym-retro) (0.16.0)\n",
            "Requirement already satisfied: numpy>=1.10.4 in /usr/local/lib/python3.7/dist-packages (from gym->gym-retro) (1.21.6)\n",
            "Requirement already satisfied: scipy in /usr/local/lib/python3.7/dist-packages (from gym->gym-retro) (1.7.3)\n",
            "Requirement already satisfied: cloudpickle<1.7.0,>=1.2.0 in /usr/local/lib/python3.7/dist-packages (from gym->gym-retro) (1.3.0)\n",
            "Looking in indexes: https://pypi.org/simple, https://us-python.pkg.dev/colab-wheels/public/simple/\n",
            "Requirement already satisfied: numpy in /usr/local/lib/python3.7/dist-packages (1.21.6)\n",
            "Looking in indexes: https://pypi.org/simple, https://us-python.pkg.dev/colab-wheels/public/simple/\n",
            "Requirement already satisfied: cloudpickle in /usr/local/lib/python3.7/dist-packages (1.3.0)\n",
            "Looking in indexes: https://pypi.org/simple, https://us-python.pkg.dev/colab-wheels/public/simple/\n",
            "Requirement already satisfied: opencv-python in /usr/local/lib/python3.7/dist-packages (4.6.0.66)\n",
            "Requirement already satisfied: numpy>=1.14.5 in /usr/local/lib/python3.7/dist-packages (from opencv-python) (1.21.6)\n",
            "Looking in indexes: https://pypi.org/simple, https://us-python.pkg.dev/colab-wheels/public/simple/\n",
            "Requirement already satisfied: matplotlib in /usr/local/lib/python3.7/dist-packages (3.2.2)\n",
            "Requirement already satisfied: python-dateutil>=2.1 in /usr/local/lib/python3.7/dist-packages (from matplotlib) (2.8.2)\n",
            "Requirement already satisfied: pyparsing!=2.0.4,!=2.1.2,!=2.1.6,>=2.0.1 in /usr/local/lib/python3.7/dist-packages (from matplotlib) (3.0.9)\n",
            "Requirement already satisfied: numpy>=1.11 in /usr/local/lib/python3.7/dist-packages (from matplotlib) (1.21.6)\n",
            "Requirement already satisfied: cycler>=0.10 in /usr/local/lib/python3.7/dist-packages (from matplotlib) (0.11.0)\n",
            "Requirement already satisfied: kiwisolver>=1.0.1 in /usr/local/lib/python3.7/dist-packages (from matplotlib) (1.4.4)\n",
            "Requirement already satisfied: typing-extensions in /usr/local/lib/python3.7/dist-packages (from kiwisolver>=1.0.1->matplotlib) (4.1.1)\n",
            "Requirement already satisfied: six>=1.5 in /usr/local/lib/python3.7/dist-packages (from python-dateutil>=2.1->matplotlib) (1.15.0)\n",
            "Looking in indexes: https://pypi.org/simple, https://us-python.pkg.dev/colab-wheels/public/simple/\n",
            "Requirement already satisfied: scikit-image in /usr/local/lib/python3.7/dist-packages (0.18.3)\n",
            "Requirement already satisfied: scipy>=1.0.1 in /usr/local/lib/python3.7/dist-packages (from scikit-image) (1.7.3)\n",
            "Requirement already satisfied: networkx>=2.0 in /usr/local/lib/python3.7/dist-packages (from scikit-image) (2.6.3)\n",
            "Requirement already satisfied: PyWavelets>=1.1.1 in /usr/local/lib/python3.7/dist-packages (from scikit-image) (1.3.0)\n",
            "Requirement already satisfied: imageio>=2.3.0 in /usr/local/lib/python3.7/dist-packages (from scikit-image) (2.9.0)\n",
            "Requirement already satisfied: numpy>=1.16.5 in /usr/local/lib/python3.7/dist-packages (from scikit-image) (1.21.6)\n",
            "Requirement already satisfied: tifffile>=2019.7.26 in /usr/local/lib/python3.7/dist-packages (from scikit-image) (2021.11.2)\n",
            "Requirement already satisfied: matplotlib!=3.0.0,>=2.0.0 in /usr/local/lib/python3.7/dist-packages (from scikit-image) (3.2.2)\n",
            "Requirement already satisfied: pillow!=7.1.0,!=7.1.1,>=4.3.0 in /usr/local/lib/python3.7/dist-packages (from scikit-image) (7.1.2)\n",
            "Requirement already satisfied: pyparsing!=2.0.4,!=2.1.2,!=2.1.6,>=2.0.1 in /usr/local/lib/python3.7/dist-packages (from matplotlib!=3.0.0,>=2.0.0->scikit-image) (3.0.9)\n",
            "Requirement already satisfied: python-dateutil>=2.1 in /usr/local/lib/python3.7/dist-packages (from matplotlib!=3.0.0,>=2.0.0->scikit-image) (2.8.2)\n",
            "Requirement already satisfied: cycler>=0.10 in /usr/local/lib/python3.7/dist-packages (from matplotlib!=3.0.0,>=2.0.0->scikit-image) (0.11.0)\n",
            "Requirement already satisfied: kiwisolver>=1.0.1 in /usr/local/lib/python3.7/dist-packages (from matplotlib!=3.0.0,>=2.0.0->scikit-image) (1.4.4)\n",
            "Requirement already satisfied: typing-extensions in /usr/local/lib/python3.7/dist-packages (from kiwisolver>=1.0.1->matplotlib!=3.0.0,>=2.0.0->scikit-image) (4.1.1)\n",
            "Requirement already satisfied: six>=1.5 in /usr/local/lib/python3.7/dist-packages (from python-dateutil>=2.1->matplotlib!=3.0.0,>=2.0.0->scikit-image) (1.15.0)\n",
            "Looking in indexes: https://pypi.org/simple, https://us-python.pkg.dev/colab-wheels/public/simple/\n",
            "Requirement already satisfied: virtualenv in /usr/local/lib/python3.7/dist-packages (20.16.3)\n",
            "Requirement already satisfied: filelock<4,>=3.4.1 in /usr/local/lib/python3.7/dist-packages (from virtualenv) (3.7.1)\n",
            "Requirement already satisfied: platformdirs<3,>=2.4 in /usr/local/lib/python3.7/dist-packages (from virtualenv) (2.5.2)\n",
            "Requirement already satisfied: distlib<1,>=0.3.5 in /usr/local/lib/python3.7/dist-packages (from virtualenv) (0.3.5)\n",
            "Requirement already satisfied: importlib-metadata>=4.8.3 in /usr/local/lib/python3.7/dist-packages (from virtualenv) (4.12.0)\n",
            "Requirement already satisfied: zipp>=0.5 in /usr/local/lib/python3.7/dist-packages (from importlib-metadata>=4.8.3->virtualenv) (3.8.1)\n",
            "Requirement already satisfied: typing-extensions>=3.6.4 in /usr/local/lib/python3.7/dist-packages (from importlib-metadata>=4.8.3->virtualenv) (4.1.1)\n",
            "Looking in indexes: https://pypi.org/simple, https://us-python.pkg.dev/colab-wheels/public/simple/\n",
            "Requirement already satisfied: pygame in /usr/local/lib/python3.7/dist-packages (2.1.2)\n"
          ]
        }
      ],
      "source": [
        "# Instale un montón de bibliotecas\n",
        "!pip3 install neat-python\n",
        "!pip3 install gym-retro\n",
        "!pip3 install numpy\n",
        "!pip3 install cloudpickle\n",
        "!pip3 install opencv-python\n",
        "!pip3 install matplotlib\n",
        "!pip3 install scikit-image\n",
        "!pip3 install virtualenv\n",
        "!pip3 install pygame\n"
      ]
    },
    {
      "cell_type": "code",
      "source": [
        ""
      ],
      "metadata": {
        "id": "YR8bMhVZ9BVr"
      },
      "execution_count": null,
      "outputs": []
    },
    {
      "cell_type": "markdown",
      "source": [
        "Ahora necesitarás importar todas las bibliotecas."
      ],
      "metadata": {
        "id": "bvnQNeYbxWh1"
      }
    },
    {
      "cell_type": "code",
      "source": [
        "import numpy as np\n",
        "import retro\n",
        "import neat\n",
        "import pickle\n",
        "import cv2\n",
        "import pygame \n",
        "# video\n",
        "import matplotlib\n",
        "import matplotlib.pyplot as plt\n",
        "%matplotlib inline\n",
        "plt.style.use('seaborn-white')\n",
        "# Procesamento de imagenes\n",
        "from skimage.transform import resize\n",
        "from skimage.color import rgb2gray\n",
        "from IPython import display"
      ],
      "metadata": {
        "id": "Hq-J1Cr-78_H"
      },
      "execution_count": null,
      "outputs": []
    },
    {
      "cell_type": "markdown",
      "source": [
        "Creamos las carpetas del openai retro, clonamos el repositorio de python usando la opcion de fork.\n",
        "creamos la virtual y la activamos \n"
      ],
      "metadata": {
        "id": "fg8TVu7E8eCU"
      }
    },
    {
      "cell_type": "code",
      "source": [
        "mkdir baselines "
      ],
      "metadata": {
        "id": "9jaHdnVJ-4lV"
      },
      "execution_count": null,
      "outputs": []
    },
    {
      "cell_type": "code",
      "source": [
        "python3 -m venv baselines"
      ],
      "metadata": {
        "id": "A0OrJTq8-_Hs"
      },
      "execution_count": null,
      "outputs": []
    },
    {
      "cell_type": "code",
      "source": [
        "cd baselines "
      ],
      "metadata": {
        "id": "IQgaJiU0_Fo3"
      },
      "execution_count": null,
      "outputs": []
    },
    {
      "cell_type": "code",
      "source": [
        "source bin/activate"
      ],
      "metadata": {
        "id": "iSjyG-umDIpo"
      },
      "execution_count": null,
      "outputs": []
    },
    {
      "cell_type": "code",
      "source": [
        "pip freeze"
      ],
      "metadata": {
        "id": "jREGtzusDQAC"
      },
      "execution_count": null,
      "outputs": []
    },
    {
      "cell_type": "code",
      "source": [
        "! git clone --recursive https://github.com/openai/baselines.git gym-retro"
      ],
      "metadata": {
        "id": "nfC7KAQADTYW"
      },
      "execution_count": null,
      "outputs": []
    },
    {
      "cell_type": "code",
      "source": [
        "! git clone --recursive https://github.com/dsapandora/sonic_controller_data_capture.git"
      ],
      "metadata": {
        "id": "XI3oI0_KF98V"
      },
      "execution_count": null,
      "outputs": []
    },
    {
      "cell_type": "code",
      "source": [
        "virtualenv -p python3 env"
      ],
      "metadata": {
        "id": "KNWSjOmcGMDa"
      },
      "execution_count": null,
      "outputs": []
    },
    {
      "cell_type": "code",
      "source": [
        "source env/bin/activate"
      ],
      "metadata": {
        "id": "z_7x9ZFnGcm-"
      },
      "execution_count": null,
      "outputs": []
    },
    {
      "cell_type": "code",
      "source": [
        "pip3 install gym-retro"
      ],
      "metadata": {
        "id": "Nt42BKPqGjrJ"
      },
      "execution_count": null,
      "outputs": []
    },
    {
      "cell_type": "code",
      "source": [
        "import retro\n",
        "\n",
        "def main():\n",
        "    env = retro.make(game='Airstriker-Genesis')\n",
        "    obs = env.reset()\n",
        "    while True:\n",
        "        obs, rew, done, info = env.step(env.action_space.sample())\n",
        "        env.render()\n",
        "        if done:\n",
        "            obs = env.reset()\n",
        "    env.close()\n",
        "\n",
        "\n",
        "if __name__ == \"__main__\":\n",
        "    main()"
      ],
      "metadata": {
        "id": "YDFsq6cZMDR-"
      },
      "execution_count": null,
      "outputs": []
    },
    {
      "cell_type": "markdown",
      "source": [
        "git¿Qué juegos ya se han integrado? Tenga en cuenta que esto mostrará todos los entornos definidos, incluso aquellos para los que faltan ROM.\n",
        "importracion de la roms"
      ],
      "metadata": {
        "id": "AsRsT22zGr0j"
      }
    },
    {
      "cell_type": "code",
      "source": [
        "python3 -m retro.import /ROMs/directory/"
      ],
      "metadata": {
        "id": "dMRDQMDaIJ2_"
      },
      "execution_count": null,
      "outputs": []
    },
    {
      "cell_type": "code",
      "source": [
        "# Create the environment: Name of folder where rom has been imported, Name of state, where to put recordings\n",
        "env = retro.make(\"SonicTheHedgehog3-Genesis\", \"Level1\") \n",
        "# if you want training to create bk2 files that you can convert into mp4 vidoes using \n",
        "# this command in a termianl: python -m retro.scripts.playback_movie <name-of-some-bk2-file.bk2>, use\n",
        "# the following env line instead\n",
        "# env = retro.make(\"SonicTheHedgehog3-Genesis\", \"Level1\", record='.') "
      ],
      "metadata": {
        "id": "O5Bjw3j39Dru"
      },
      "execution_count": null,
      "outputs": []
    },
    {
      "cell_type": "code",
      "source": [
        "# This is function that calculates the fitness of each genome in the neat-python Population\n",
        "\n",
        "def eval_genomes(genomes, config):\n",
        "    imgarray = []\n",
        "    xpos_end = 0\n",
        "\n",
        "# It loops through each genome in the genomes popuation (created in the next cell)\n",
        "    for genome_id, genome in genomes:\n",
        "        ob = env.reset()\n",
        "        ac = env.action_space.sample()\n",
        "#         print(ob.shape)\n",
        "        iny, inx, inc = env.observation_space.shape\n",
        "        inx = int(inx/8)\n",
        "        iny = int(iny/8)\n",
        "# this line creates the kind of network you to use. The other main option is:\n",
        "# net = neat.nn.FeedForwardNetwork.create(genome, config)\n",
        "\n",
        "        net = neat.nn.recurrent.RecurrentNetwork.create(genome, config)\n",
        "        \n",
        "# initialize some variables\n",
        "        current_max_fitness = 0\n",
        "        fitness_current = 0\n",
        "        frame = 0\n",
        "        counter = 0\n",
        "        xpos = 0\n",
        "        xpos_max = 0\n",
        "        \n",
        "        done = False\n",
        "\n",
        "        while not done:            \n",
        "\n",
        "            frame += 1\n",
        "            ob = cv2.resize(ob, (inx, iny))\n",
        "            ob = cv2.cvtColor(ob, cv2.COLOR_BGR2GRAY)\n",
        "            ob = np.reshape(ob, (inx,iny))\n",
        "            \n",
        "# The following line lets you watch while training. Commenting it out will speed things up,\n",
        "# but you wont be able see while it learns. Either way, you can still use playback.py to watch \n",
        "# the 'winner.pkl' file after training has completed. \n",
        "            env.render()\n",
        "\n",
        "            imgarray = np.ndarray.flatten(ob)\n",
        "            \n",
        "            nnOutput = net.activate(imgarray)\n",
        "            \n",
        "            ob, rew, done, info = env.step(nnOutput)\n",
        "\n",
        "# Set the variables you're tracking for reward\n",
        "# With Sonic 3, we're only track 'x'\n",
        "# You can create/change variables using gym-retro-integration (https://www.youtube.com/watch?v=eijRTLh6SBw )\n",
        "\n",
        "            xpos = info['x']       \n",
        "\n",
        "# This gives Sonic +1 fitness for every pixel he moves to the right. this is your fitness function.\n",
        "# This determines how your AI will learn and you can change it however you please!\n",
        "            if xpos > xpos_max:\n",
        "                fitness_current += 1\n",
        "                xpos_max = xpos\n",
        "            \n",
        "# This section determines if the AI has finished a level. If it passes that x position, 100000 is\n",
        "# added to this current genomes fitness, which triggers the network to finish. \n",
        "\n",
        "            if xpos == 12300:\n",
        "                fitness_current += 100000\n",
        "                done = True\n",
        "\n",
        "# if you're not interested in manually setting the fitness function, you can just use += rew\n",
        "           # fitness_current += rew\n",
        "            \n",
        "            if fitness_current > current_max_fitness:\n",
        "                current_max_fitness = fitness_current\n",
        "                counter = 0\n",
        "            else:\n",
        "                counter += 1\n",
        "                \n",
        "            if done or counter == 250:\n",
        "                done = True\n",
        "                print(\"Genome: \", genome_id, \", Fitness Achieved: \", fitness_current)\n",
        "                \n",
        "            genome.fitness = fitness_current"
      ],
      "metadata": {
        "id": "9y246t0T9HzQ"
      },
      "execution_count": null,
      "outputs": []
    },
    {
      "cell_type": "code",
      "source": [
        "#Setup config\n",
        "config = neat.Config(neat.DefaultGenome, neat.DefaultReproduction,\n",
        "                     neat.DefaultSpeciesSet, neat.DefaultStagnation,\n",
        "                     'config-feedforward')\n",
        "# creat population\n",
        "p = neat.Population(config)\n",
        "\n",
        "# add reporters so you can get some nice stats\n",
        "p.add_reporter(neat.StdOutReporter(True))\n",
        "stats = neat.StatisticsReporter()\n",
        "p.add_reporter(stats)\n",
        "\n",
        "# save a check point file every 10 iterations\n",
        "p.add_reporter(neat.Checkpointer(10))\n",
        "\n",
        "# if you have already trained some, and want to restore, uncomment this line and change the 'neat-checkpoint-10'\n",
        "# to whichever file you want to use (they'll all be named neat-checkpoint-somenumber)\n",
        "#p = neat.Checkpointer.restore_checkpoint('neat-checkpoint-10')\n",
        "\n",
        "# this line runs the previous eval_genomes function. Once done, the best is set to winner\n",
        "winner = p.run(eval_genomes)\n",
        "\n",
        "#saves a pickle file of the winning genome.\n",
        "with open('winner.pkl', 'wb') as output:\n",
        "    pickle.dump(winner, output, 1)"
      ],
      "metadata": {
        "id": "gn-jTzwL9XIE"
      },
      "execution_count": null,
      "outputs": []
    }
  ]
}